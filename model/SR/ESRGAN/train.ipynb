{
 "cells": [
  {
   "cell_type": "code",
   "execution_count": 9,
   "id": "f19d20c8-7962-4a2b-b5bf-4bdd3b0df362",
   "metadata": {},
   "outputs": [
    {
     "ename": "NameError",
     "evalue": "name '__file__' is not defined",
     "output_type": "error",
     "traceback": [
      "\u001b[1;31m---------------------------------------------------------------------------\u001b[0m",
      "\u001b[1;31mNameError\u001b[0m                                 Traceback (most recent call last)",
      "Cell \u001b[1;32mIn[9], line 9\u001b[0m\n\u001b[0;32m      6\u001b[0m \u001b[38;5;28;01mimport\u001b[39;00m \u001b[38;5;21;01mmodels\u001b[39;00m\n\u001b[0;32m      8\u001b[0m \u001b[38;5;28;01mif\u001b[39;00m \u001b[38;5;18m__name__\u001b[39m \u001b[38;5;241m==\u001b[39m \u001b[38;5;124m'\u001b[39m\u001b[38;5;124m__main__\u001b[39m\u001b[38;5;124m'\u001b[39m:\n\u001b[1;32m----> 9\u001b[0m     \u001b[38;5;28mprint\u001b[39m(\u001b[38;5;18;43m__file__\u001b[39;49m)\n\u001b[0;32m     10\u001b[0m     root_path \u001b[38;5;241m=\u001b[39m osp\u001b[38;5;241m.\u001b[39mabspath(osp\u001b[38;5;241m.\u001b[39mjoin(\u001b[38;5;18m__file__\u001b[39m, osp\u001b[38;5;241m.\u001b[39mpardir, osp\u001b[38;5;241m.\u001b[39mpardir))\n\u001b[0;32m     11\u001b[0m     \u001b[38;5;28mprint\u001b[39m(\u001b[38;5;124m\"\u001b[39m\u001b[38;5;124mroot_path\u001b[39m\u001b[38;5;124m\"\u001b[39m,root_path)\n",
      "\u001b[1;31mNameError\u001b[0m: name '__file__' is not defined"
     ]
    }
   ],
   "source": [
    "import os.path as osp\n",
    "from basicsr.train import train_pipeline\n",
    "\n",
    "import archs\n",
    "import dataset\n",
    "import models\n",
    "\n",
    "if __name__ == '__main__':\n",
    "    print(__file__)\n",
    "    root_path = osp.abspath(osp.join(__file__, osp.pardir, osp.pardir))\n",
    "    print(\"root_path\",root_path)\n",
    "    train_pipeline(root_path)"
   ]
  },
  {
   "cell_type": "code",
   "execution_count": null,
   "id": "866fa4c9-207f-4335-9387-877fda708ab1",
   "metadata": {},
   "outputs": [],
   "source": []
  }
 ],
 "metadata": {
  "kernelspec": {
   "display_name": "Python 3 (ipykernel)",
   "language": "python",
   "name": "python3"
  },
  "language_info": {
   "codemirror_mode": {
    "name": "ipython",
    "version": 3
   },
   "file_extension": ".py",
   "mimetype": "text/x-python",
   "name": "python",
   "nbconvert_exporter": "python",
   "pygments_lexer": "ipython3",
   "version": "3.11.3"
  }
 },
 "nbformat": 4,
 "nbformat_minor": 5
}
